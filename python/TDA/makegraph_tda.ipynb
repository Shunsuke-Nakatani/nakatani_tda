{
 "cells": [
  {
   "cell_type": "markdown",
   "metadata": {},
   "source": [
    "py4cytoscapeを利用してトランザクションデータを座標変換\n",
    "fromとtoをのつながりを持つグラフをcytoscapeに書かせて、登場したアカウントすべてに座標を与えて座標のtxtファイルを獲得"
   ]
  },
  {
   "cell_type": "markdown",
   "metadata": {},
   "source": [
    "また、valueの数値でフィルタリング"
   ]
  },
  {
   "cell_type": "code",
   "execution_count": 1,
   "metadata": {},
   "outputs": [
    {
     "name": "stdout",
     "output_type": "stream",
     "text": [
      "You are connected to Cytoscape!\n"
     ]
    },
    {
     "data": {
      "text/plain": [
       "{'apiVersion': 'v1',\n",
       " 'cytoscapeVersion': '3.9.1',\n",
       " 'automationAPIVersion': '1.6.0',\n",
       " 'py4cytoscapeVersion': '1.5.0'}"
      ]
     },
     "execution_count": 1,
     "metadata": {},
     "output_type": "execute_result"
    }
   ],
   "source": [
    "\n",
    "#バージョン確認\n",
    "import py4cytoscape as p4c\n",
    "p4c.cytoscape_ping()\n",
    "p4c.cytoscape_version_info()"
   ]
  },
  {
   "cell_type": "code",
   "execution_count": 2,
   "metadata": {},
   "outputs": [],
   "source": [
    "##sample.csvの読み取り\n",
    "import numpy as nm\n",
    "import pandas as pd\n",
    "import os\n",
    "\n",
    "#sample.csvのあるディレクトリを指定\n",
    "os.chdir(\"/Users/sinco/Desktop/python\")\n",
    "\n",
    "#csvファイルの読み取り\n",
    "df =pd.read_csv('z.csv')\n",
    "\n",
    "#読み込む行数の指定 df2は特定行を抽出した表\n",
    "df = df[1:1000]"
   ]
  },
  {
   "cell_type": "markdown",
   "metadata": {},
   "source": [
    "取引量(value)が0の列を削除する"
   ]
  },
  {
   "cell_type": "code",
   "execution_count": 3,
   "metadata": {},
   "outputs": [],
   "source": [
    "#csvファイルの'value'が0より大きい列だけを抽出する\n",
    "df_mask=df['value']>0\n",
    "df = df[df_mask]"
   ]
  },
  {
   "cell_type": "code",
   "execution_count": 4,
   "metadata": {},
   "outputs": [
    {
     "name": "stdout",
     "output_type": "stream",
     "text": [
      "                                         source  \\\n",
      "1    0x2b9a95c4f3924465fdbcded0a79cbd879830a04f   \n",
      "3    0x49b667e8edccda3116bb00c189803070ad48466f   \n",
      "7    0x28c6c06298d514db089934071355e5743bf21d60   \n",
      "8    0x876eabf441b2ee5b5b0554fd502a8e0600950cfa   \n",
      "9    0xbcda8d4178a5d63b38cb144715312a74e845ed95   \n",
      "..                                          ...   \n",
      "991  0xe021c7b6512247cd5438f25c116455ce761f44ad   \n",
      "992  0xb345c2f075411cb5f9cd630169b9de6511e24484   \n",
      "994  0xd1f73b32bc53c02e6cd00e1fbba8ac46330fd3c5   \n",
      "995  0xfcb001eb6c1873db490e341b806d635a8a9e3d30   \n",
      "996  0xa81e866e8e92ca16fce4d49d208e59289bf96a68   \n",
      "\n",
      "                                         target      value       timestamp  \\\n",
      "1    0x28c6c06298d514db089934071355e5743bf21d60   1.630654  20210724180256   \n",
      "3    0x28c6c06298d514db089934071355e5743bf21d60   0.999433  20210724180256   \n",
      "7    0xf3d29603b0ae955d4126a5500fb10497758cb8ff   2.068440  20210724180256   \n",
      "8    0x6f62540d66d45c2d76369c565dc243ce16b8a0f9   7.497594  20210724180256   \n",
      "9    0xc9610be2843f1618edfedd0860dc43551c727061   5.003359  20210724180256   \n",
      "..                                          ...        ...             ...   \n",
      "991  0xb2723beacce4bc54f23544343927f048cef6bd5a  15.309378  20210724180320   \n",
      "992  0x8bab20beaec0e246c05514b9f31af40490c5927a   0.603995  20210724180320   \n",
      "994  0x3ff9dea7b397c612174033400299ddd0490d1855   0.000872  20210724180320   \n",
      "995  0xbc13cdbf9cc107a04be2070f068690b7e7412868   0.020000  20210724180320   \n",
      "996  0x986a2fca9eda0e06fbf7839b89bfc006ee2a23dd  89.999503  20210724180320   \n",
      "\n",
      "     blocknumber  \n",
      "1       12890531  \n",
      "3       12890531  \n",
      "7       12890531  \n",
      "8       12890531  \n",
      "9       12890531  \n",
      "..           ...  \n",
      "991     12890536  \n",
      "992     12890536  \n",
      "994     12890536  \n",
      "995     12890536  \n",
      "996     12890536  \n",
      "\n",
      "[1054 rows x 5 columns]\n"
     ]
    }
   ],
   "source": [
    "#指定したアカウントが含まれる行を抽出したdataframeの作成\n",
    "account = \"\"\n",
    "sourcefilter = df[\"source\"].str.contains(account)\n",
    "targetfilter = df[\"target\"].str.contains(account)\n",
    "df = pd.concat([df[targetfilter],df[sourcefilter]],axis=0)\n",
    "print(df)"
   ]
  },
  {
   "cell_type": "code",
   "execution_count": 5,
   "metadata": {},
   "outputs": [
    {
     "name": "stdout",
     "output_type": "stream",
     "text": [
      "1054\n",
      "1054\n",
      "701\n"
     ]
    }
   ],
   "source": [
    "#sample.csvからfrom列とto列を抽出(listではない)\n",
    "fr =df[\"source\"]\n",
    "to =df[\"target\"]\n",
    "\n",
    "#list化\n",
    "frlist = fr.values.tolist()\n",
    "tolist = to.values.tolist()\n",
    "print(len(frlist))\n",
    "print(len(tolist))\n",
    "\n",
    "frlist1 = fr.values.tolist()\n",
    "\n",
    "#from,toにあるすべてのアカウント名のリスト(順不同)\n",
    "#これやるとfrlist1が変形されてしまう\n",
    "al = []\n",
    "al = frlist1\n",
    "al.extend(tolist)\n",
    "al1=[]\n",
    "al1=list(set(al))\n",
    "\n",
    "print(len(al1))"
   ]
  },
  {
   "cell_type": "markdown",
   "metadata": {},
   "source": [
    "sourceとtargetに登場するアカウントは重複が多い"
   ]
  },
  {
   "cell_type": "code",
   "execution_count": 6,
   "metadata": {},
   "outputs": [
    {
     "name": "stdout",
     "output_type": "stream",
     "text": [
      "Applying default style...\n",
      "Applying preferred layout\n"
     ]
    },
    {
     "data": {
      "text/plain": [
       "124"
      ]
     },
     "execution_count": 6,
     "metadata": {},
     "output_type": "execute_result"
    }
   ],
   "source": [
    "#グラフの表示\n",
    "import py4cytoscape as p4c\n",
    "nodes = pd.DataFrame(data={'id':al1})\n",
    "edges = pd.DataFrame(data={'source':frlist,'target':tolist})\n",
    "p4c.create_network_from_data_frames(nodes, edges, title=\"my first network\", collection=\"DataFrame Example\")"
   ]
  },
  {
   "cell_type": "code",
   "execution_count": 7,
   "metadata": {},
   "outputs": [
    {
     "name": "stdout",
     "output_type": "stream",
     "text": [
      "                                         source  \\\n",
      "178  0xea674fdde714fd979de3edf0f56aa9716b898ec8   \n",
      "180  0xea674fdde714fd979de3edf0f56aa9716b898ec8   \n",
      "181  0xea674fdde714fd979de3edf0f56aa9716b898ec8   \n",
      "182  0xea674fdde714fd979de3edf0f56aa9716b898ec8   \n",
      "183  0xea674fdde714fd979de3edf0f56aa9716b898ec8   \n",
      "..                                          ...   \n",
      "435  0xea674fdde714fd979de3edf0f56aa9716b898ec8   \n",
      "436  0xea674fdde714fd979de3edf0f56aa9716b898ec8   \n",
      "437  0xea674fdde714fd979de3edf0f56aa9716b898ec8   \n",
      "439  0xea674fdde714fd979de3edf0f56aa9716b898ec8   \n",
      "443  0xea674fdde714fd979de3edf0f56aa9716b898ec8   \n",
      "\n",
      "                                         target     value       timestamp  \\\n",
      "178  0x685d05f64df5fc7801e75f28c3d0e93971e1202f  0.500710  20210724180304   \n",
      "180  0x08ea38f58a25a080d65e3a00057d27d3035342f7  0.100004  20210724180304   \n",
      "181  0x8a5e6c1e3de17e924aa9467587b5d017e5c8627b  0.100184  20210724180304   \n",
      "182  0xb49c9e9f8dd738bb61bf3ea87b626175177e6a29  0.100098  20210724180304   \n",
      "183  0x630def2c556f685ec2f4b5a3a4d5d5bf5bd7069f  1.001406  20210724180304   \n",
      "..                                          ...       ...             ...   \n",
      "435  0x5551f3f6c5f79dc30fa899b5c20fcb1e3f97b1cb  0.100062  20210724180304   \n",
      "436  0x0dc92ca8998835bcc4c5db6a7245293d0475a9d9  0.100106  20210724180304   \n",
      "437  0x1c495012ad3585dc13b146d4d89f3538126665e0  0.500400  20210724180304   \n",
      "439  0x5600d2c52a6c8d2c17df03b51a0e077d1f18ec70  0.100076  20210724180304   \n",
      "443  0x53888ff996b225bb14868b3b6a577b53da751c6d  0.100011  20210724180304   \n",
      "\n",
      "     blocknumber  \n",
      "178     12890532  \n",
      "180     12890532  \n",
      "181     12890532  \n",
      "182     12890532  \n",
      "183     12890532  \n",
      "..           ...  \n",
      "435     12890532  \n",
      "436     12890532  \n",
      "437     12890532  \n",
      "439     12890532  \n",
      "443     12890532  \n",
      "\n",
      "[266 rows x 5 columns]\n"
     ]
    }
   ],
   "source": [
    "#指定したアカウントが含まれる行を抽出したdataframeの作成\n",
    "account = '0xea67'\n",
    "sourcefilter = df[\"source\"].str.contains(account)\n",
    "targetfilter = df[\"target\"].str.contains(account)\n",
    "df_filtered = pd.concat([df[targetfilter],df[sourcefilter]],axis=0)\n",
    "print(df_filtered)\n"
   ]
  },
  {
   "cell_type": "code",
   "execution_count": 8,
   "metadata": {},
   "outputs": [
    {
     "data": {
      "text/plain": [
       "'\\nn = p4c.get_node_position() #全ノードの座標取得\\nn[\\'index\\'] = n.index\\nn.columns = [\\'x\\',\\'y\\',\\'A\\']\\nn[\\'x\\'] = n[\\'x\\']/1000\\nn[\\'y\\'] = n[\\'y\\']/1000\\n\\n#A列(account名)を脱落\\nn.drop(columns=[\"A\"],inplace = True)\\nprint(n)\\n\\n#テキストファイルにして出力\\nn.to_csv(\"cytoTDA_0xea67.txt\", sep=\" \", index=False)\\n'"
      ]
     },
     "execution_count": 8,
     "metadata": {},
     "output_type": "execute_result"
    }
   ],
   "source": [
    "#ノードの座標の取得から表の作成\n",
    "'''\n",
    "n = p4c.get_node_position() #全ノードの座標取得\n",
    "n['index'] = n.index\n",
    "n.columns = ['x','y','A']\n",
    "n['x'] = n['x']/1000\n",
    "n['y'] = n['y']/1000\n",
    "\n",
    "#A列(account名)を脱落\n",
    "n.drop(columns=[\"A\"],inplace = True)\n",
    "print(n)\n",
    "\n",
    "#テキストファイルにして出力\n",
    "n.to_csv(\"cytoTDA_0xea67.txt\", sep=\" \", index=False)\n",
    "'''"
   ]
  }
 ],
 "metadata": {
  "kernelspec": {
   "display_name": "Python 3.10.5 64-bit",
   "language": "python",
   "name": "python3"
  },
  "language_info": {
   "codemirror_mode": {
    "name": "ipython",
    "version": 3
   },
   "file_extension": ".py",
   "mimetype": "text/x-python",
   "name": "python",
   "nbconvert_exporter": "python",
   "pygments_lexer": "ipython3",
   "version": "3.10.5 (tags/v3.10.5:f377153, Jun  6 2022, 16:14:13) [MSC v.1929 64 bit (AMD64)]"
  },
  "orig_nbformat": 4,
  "vscode": {
   "interpreter": {
    "hash": "cfa6768c21de3901852213cc8ace0c76992ac9ee5c616b45c25a642d8902200e"
   }
  }
 },
 "nbformat": 4,
 "nbformat_minor": 2
}
