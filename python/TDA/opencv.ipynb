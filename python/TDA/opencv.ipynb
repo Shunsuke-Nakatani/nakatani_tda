{
 "cells": [
  {
   "cell_type": "code",
   "execution_count": 28,
   "metadata": {},
   "outputs": [],
   "source": [
    "import cv2\n",
    "import numpy as np"
   ]
  },
  {
   "cell_type": "code",
   "execution_count": 29,
   "metadata": {},
   "outputs": [
    {
     "name": "stdout",
     "output_type": "stream",
     "text": [
      "Image is read\n"
     ]
    },
    {
     "data": {
      "text/plain": [
       "True"
      ]
     },
     "execution_count": 29,
     "metadata": {},
     "output_type": "execute_result"
    }
   ],
   "source": [
    "img = cv2.imread('pointcloud-normal.png',0)\n",
    "\n",
    "if img is not None:\n",
    "    print('Image is read')\n",
    "else:\n",
    "    print('Image is NOT read')\n",
    "\n",
    "#閾値（2値化）\n",
    "threshold =150\n",
    "\n",
    "ret, img_thresh = cv2.threshold(img, threshold, 255, cv2.THRESH_BINARY)\n",
    "\n",
    "cv2.imshow('loaded',img_thresh)\n",
    "cv2.waitKey(0)\n",
    "cv2.destroyAllWindows()\n",
    "\n",
    "cv2.imwrite('./normal-gray.png',img)\n",
    "cv2.imwrite('./mono.png',img_thresh)"
   ]
  },
  {
   "cell_type": "code",
   "execution_count": 30,
   "metadata": {},
   "outputs": [
    {
     "data": {
      "text/plain": [
       "True"
      ]
     },
     "execution_count": 30,
     "metadata": {},
     "output_type": "execute_result"
    }
   ],
   "source": [
    "# 元画像の読み込み\n",
    "path = \"./mono.png\"\n",
    "src = cv2.imread(path)\n",
    " \n",
    "# Point 1: 白色部分に対応するマスク画像を生成\n",
    "mask = np.all(src[:,:,:] == [255, 255, 255], axis=-1)\n",
    " \n",
    "# Point 2: 元画像をBGR形式からBGRA形式に変換\n",
    "dst = cv2.cvtColor(src, cv2.COLOR_BGR2BGRA)\n",
    " \n",
    "# Point3: マスク画像をもとに、白色部分を透明化\n",
    "dst[mask,3] = 0\n",
    " \n",
    "# png画像として出力\n",
    "cv2.imwrite(\"dst.png\", dst)"
   ]
  },
  {
   "cell_type": "code",
   "execution_count": 35,
   "metadata": {},
   "outputs": [
    {
     "ename": "error",
     "evalue": "OpenCV(4.6.0) D:\\a\\opencv-python\\opencv-python\\opencv\\modules\\core\\src\\arithm.cpp:650: error: (-209:Sizes of input arguments do not match) The operation is neither 'array op array' (where arrays have the same size and the same number of channels), nor 'array op scalar', nor 'scalar op array' in function 'cv::arithm_op'\n",
     "output_type": "error",
     "traceback": [
      "\u001b[1;31m---------------------------------------------------------------------------\u001b[0m",
      "\u001b[1;31merror\u001b[0m                                     Traceback (most recent call last)",
      "\u001b[1;32mセル4 を c:\\Users\\sinco\\Desktop\\python\\TDA\\opencv.ipynb\u001b[0m in \u001b[0;36m<cell line: 3>\u001b[1;34m()\u001b[0m\n\u001b[0;32m      <a href='vscode-notebook-cell:/c%3A/Users/sinco/Desktop/python/TDA/opencv.ipynb#W4sZmlsZQ%3D%3D?line=0'>1</a>\u001b[0m img2 \u001b[39m=\u001b[39m cv2\u001b[39m.\u001b[39mimread(\u001b[39m'\u001b[39m\u001b[39mpointcloud-error.png\u001b[39m\u001b[39m'\u001b[39m)\n\u001b[1;32m----> <a href='vscode-notebook-cell:/c%3A/Users/sinco/Desktop/python/TDA/opencv.ipynb#W4sZmlsZQ%3D%3D?line=2'>3</a>\u001b[0m blend \u001b[39m=\u001b[39m cv2\u001b[39m.\u001b[39;49maddWeighted(dst,\u001b[39m0.5\u001b[39;49m,img2,\u001b[39m0.5\u001b[39;49m,\u001b[39m2.2\u001b[39;49m)\n",
      "\u001b[1;31merror\u001b[0m: OpenCV(4.6.0) D:\\a\\opencv-python\\opencv-python\\opencv\\modules\\core\\src\\arithm.cpp:650: error: (-209:Sizes of input arguments do not match) The operation is neither 'array op array' (where arrays have the same size and the same number of channels), nor 'array op scalar', nor 'scalar op array' in function 'cv::arithm_op'\n"
     ]
    }
   ],
   "source": [
    "img2 = cv2.imread('pointcloud-error.png')\n",
    "\n",
    "blend = cv2.addWeighted(dst,0.5,img2,0.5,2.2)"
   ]
  }
 ],
 "metadata": {
  "kernelspec": {
   "display_name": "Python 3",
   "language": "python",
   "name": "python3"
  },
  "language_info": {
   "codemirror_mode": {
    "name": "ipython",
    "version": 3
   },
   "file_extension": ".py",
   "mimetype": "text/x-python",
   "name": "python",
   "nbconvert_exporter": "python",
   "pygments_lexer": "ipython3",
   "version": "3.10.5 (tags/v3.10.5:f377153, Jun  6 2022, 16:14:13) [MSC v.1929 64 bit (AMD64)]"
  },
  "orig_nbformat": 4,
  "vscode": {
   "interpreter": {
    "hash": "cfa6768c21de3901852213cc8ace0c76992ac9ee5c616b45c25a642d8902200e"
   }
  }
 },
 "nbformat": 4,
 "nbformat_minor": 2
}
