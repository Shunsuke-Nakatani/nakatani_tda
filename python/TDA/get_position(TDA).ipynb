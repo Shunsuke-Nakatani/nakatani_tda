{
 "cells": [
  {
   "cell_type": "markdown",
   "metadata": {},
   "source": [
    "py4cytoscapeを利用してトランザクションデータを座標変換\n",
    "fromとtoをのつながりを持つグラフをcytoscapeに書かせて、登場したアカウントすべてに座標を与えて座標のtxtファイルを獲得"
   ]
  },
  {
   "cell_type": "code",
   "execution_count": 1,
   "metadata": {},
   "outputs": [],
   "source": [
    "\n",
    "#バージョン確認\n",
    "import py4cytoscape as p4c\n",
    "p4c.cytoscape_ping()\n",
    "p4c.cytoscape_version_info()"
   ]
  },
  {
   "cell_type": "code",
   "execution_count": null,
   "metadata": {},
   "outputs": [
    {
     "name": "stdout",
     "output_type": "stream",
     "text": [
      "9999\n",
      "9999\n",
      "8169\n"
     ]
    }
   ],
   "source": [
    "##sample.csvの読み取り\n",
    "import numpy as nm\n",
    "import pandas as pd\n",
    "import os\n",
    "\n",
    "#sample.csvのあるディレクトリを指定\n",
    "os.chdir(\"/Users/sinco/Desktop/python\")\n",
    "\n",
    "#csvファイルの読み取り\n",
    "df =pd.read_csv('z.csv')\n",
    "\n",
    "#読み込む行数の指定 df2は特定行を抽出した表\n",
    "df2 = df[1:1000]\n",
    "\n",
    "#sample.csvからfrom列とto列を抽出(listではない)\n",
    "fr =df2[\"source\"]\n",
    "to =df2[\"target\"]\n",
    "\n",
    "#list化\n",
    "frlist = fr.values.tolist()\n",
    "tolist = to.values.tolist()\n",
    "print(len(frlist))\n",
    "print(len(tolist))\n",
    "\n",
    "frlist1 = fr.values.tolist()\n",
    "\n",
    "#from,toにあるすべてのアカウント名のリスト(順不同)\n",
    "#これやるとfrlist1が変形されてしまう\n",
    "al = []\n",
    "al = frlist1\n",
    "al.extend(tolist)\n",
    "al1=[]\n",
    "al1=list(set(al))\n",
    "\n",
    "print(len(al1))"
   ]
  },
  {
   "cell_type": "markdown",
   "metadata": {},
   "source": [
    "sourceとtargetに登場するアカウントは重複が多い"
   ]
  },
  {
   "cell_type": "code",
   "execution_count": null,
   "metadata": {},
   "outputs": [
    {
     "name": "stdout",
     "output_type": "stream",
     "text": [
      "Applying default style...\n",
      "Applying preferred layout\n"
     ]
    },
    {
     "data": {
      "text/plain": [
       "152054"
      ]
     },
     "execution_count": 34,
     "metadata": {},
     "output_type": "execute_result"
    }
   ],
   "source": [
    "#グラフの表示\n",
    "import py4cytoscape as p4c\n",
    "nodes = pd.DataFrame(data={'id':al1})\n",
    "edges = pd.DataFrame(data={'source':frlist,'target':tolist})\n",
    "p4c.create_network_from_data_frames(nodes, edges, title=\"my first network\", collection=\"DataFrame Example\")"
   ]
  },
  {
   "cell_type": "code",
   "execution_count": null,
   "metadata": {},
   "outputs": [
    {
     "name": "stdout",
     "output_type": "stream",
     "text": [
      "                                                    x         y\n",
      "0xba100000625a3754423978a60c9317c58a424e3d  -2.202559 -1.435593\n",
      "0x88a9a52f944315d5b4e917b9689e65445c401e83  -1.417089  0.334276\n",
      "0xd7a9f2faa2a400e80f888345e468e6431dfc1747  11.093184  2.739056\n",
      "0x9193d1e28c7eb1b481808d26f1c7b2753dbd7289  -0.282290 -1.996760\n",
      "0x9adb5e30c1fe1bb1c41937e4a2ef53671c330ae3  -0.384664  0.099084\n",
      "...                                               ...       ...\n",
      "0x0aa640fb34d3f9ca3af0501e00366bc632e747bc  -3.147361 -2.749406\n",
      "0x30167373c74bb493bbc482031c429a8dc7188358  -2.776465  3.812063\n",
      "0xec617138643d9119d3272bd5306d9e3a61dbe272  -2.961741  3.396584\n",
      "0x8ee4ea58e31721302d6de1f670d6ee88dfaf9f94  -0.718898 -1.333453\n",
      "0xc599aec45fd55dbdabf8e31d48422ef6afa9b0fc   2.676899 -4.190436\n",
      "\n",
      "[8169 rows x 2 columns]\n"
     ]
    }
   ],
   "source": [
    "#ノードの座標の取得から表の作成\n",
    "n = p4c.get_node_position() #全ノードの座標取得\n",
    "n['index'] = n.index\n",
    "n.columns = ['x','y','A']\n",
    "n['x'] = n['x']/1000\n",
    "n['y'] = n['y']/1000\n",
    "\n",
    "#A列(account名)を脱落\n",
    "n.drop(columns=[\"A\"],inplace = True)\n",
    "print(n)\n",
    "\n",
    "#テキストファイルにして出力\n",
    "n.to_csv(\"cyto4TDA(10001-20000).txt\", sep=\" \", index=False)"
   ]
  }
 ],
 "metadata": {
  "kernelspec": {
   "display_name": "Python 3.10.5 64-bit",
   "language": "python",
   "name": "python3"
  },
  "language_info": {
   "codemirror_mode": {
    "name": "ipython",
    "version": 3
   },
   "file_extension": ".py",
   "mimetype": "text/x-python",
   "name": "python",
   "nbconvert_exporter": "python",
   "pygments_lexer": "ipython3",
   "version": "3.10.5"
  },
  "orig_nbformat": 4,
  "vscode": {
   "interpreter": {
    "hash": "cfa6768c21de3901852213cc8ace0c76992ac9ee5c616b45c25a642d8902200e"
   }
  }
 },
 "nbformat": 4,
 "nbformat_minor": 2
}
