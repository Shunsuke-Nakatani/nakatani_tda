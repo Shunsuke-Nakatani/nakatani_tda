{
 "cells": [
  {
   "cell_type": "code",
   "execution_count": 1,
   "id": "2eb2b3a4",
   "metadata": {},
   "outputs": [
    {
     "name": "stdout",
     "output_type": "stream",
     "text": [
      "You are connected to Cytoscape!\n"
     ]
    },
    {
     "data": {
      "text/plain": [
       "{'apiVersion': 'v1',\n",
       " 'cytoscapeVersion': '3.9.1',\n",
       " 'automationAPIVersion': '1.6.0',\n",
       " 'py4cytoscapeVersion': '1.5.0'}"
      ]
     },
     "execution_count": 1,
     "metadata": {},
     "output_type": "execute_result"
    }
   ],
   "source": [
    "import py4cytoscape as p4c\n",
    "p4c.cytoscape_ping()\n",
    "p4c.cytoscape_version_info()"
   ]
  },
  {
   "cell_type": "code",
   "execution_count": 27,
   "id": "2e92e5c5",
   "metadata": {},
   "outputs": [
    {
     "name": "stdout",
     "output_type": "stream",
     "text": [
      "0     0xf946a35f1f3bc4ce459101cd5549406fcd3bd295\n",
      "1     0x21197628882d449dcecbeff0e15824ad4652aa95\n",
      "2     0xf5202ed3b0d67ddac56e2b8d653fea4f97b7eb84\n",
      "3     0xe95148eff35b63bee35ddd8f0d452164ac1d9df3\n",
      "4     0x7c482694cbb7727f3080b9bac741581c51d94188\n",
      "5     0x83a904b112ebea56bf5964ce4beab9c4b94d986d\n",
      "6     0x4f28ed464c7a8266b04dfc916c263382689feb1c\n",
      "7     0x51b89be16a4e361f30d86cfcbd63c7605afb0e19\n",
      "8     0x4687f6b19b5ceea0cd50eca6711127b23602deac\n",
      "9     0xfd54078badd5653571726c3370afb127351a6f26\n",
      "10    0x8c4b7870fc7dff2cb1e854858533ceddaf3eebf4\n",
      "Name: from_address, dtype: object\n"
     ]
    }
   ],
   "source": [
    "import pandas as pd\n",
    "import os\n",
    "os.chdir(\"/Users/sinco/OneDrive/デスクトップ/python\")\n",
    "\n",
    "df =pd.read_csv('sample.csv')\n",
    "#sample.csvからfrom列とto列を抽出(listではない)\n",
    "fr =df[\"from_address\"]\n",
    "to =df[\"to_address\"]\n",
    "\n",
    "frli = \n",
    "print(fr)\n",
    "#fr1 = fr\n",
    "#fr1.extend(to)\n",
    "\n",
    "\n",
    "\n"
   ]
  },
  {
   "cell_type": "code",
   "execution_count": null,
   "id": "daef6108",
   "metadata": {},
   "outputs": [],
   "source": []
  }
 ],
 "metadata": {
  "kernelspec": {
   "display_name": "Python 3 (ipykernel)",
   "language": "python",
   "name": "python3"
  },
  "language_info": {
   "codemirror_mode": {
    "name": "ipython",
    "version": 3
   },
   "file_extension": ".py",
   "mimetype": "text/x-python",
   "name": "python",
   "nbconvert_exporter": "python",
   "pygments_lexer": "ipython3",
   "version": "3.10.5"
  }
 },
 "nbformat": 4,
 "nbformat_minor": 5
}
